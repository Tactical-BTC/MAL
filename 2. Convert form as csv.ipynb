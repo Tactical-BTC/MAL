{
 "cells": [
  {
   "attachments": {},
   "cell_type": "markdown",
   "metadata": {},
   "source": [
    "#### 2. CSV file 만들기"
   ]
  },
  {
   "cell_type": "code",
   "execution_count": 1,
   "metadata": {},
   "outputs": [],
   "source": [
    "import os\n",
    "import pandas as pd"
   ]
  },
  {
   "cell_type": "code",
   "execution_count": 2,
   "metadata": {},
   "outputs": [],
   "source": [
    "os.chdir(r'C:\\Users\\jihoon.park\\Desktop\\Paper preparation\\SimA_20230214')"
   ]
  },
  {
   "cell_type": "code",
   "execution_count": 4,
   "metadata": {},
   "outputs": [],
   "source": [
    "list_ = os.listdir('./Merged file') #./ 상대경로\n",
    "MITO=[]\n",
    "Nucleus=[]\n",
    "Total=[]\n",
    "\n",
    "for i in list_:\n",
    "    if 'MITO' in i:\n",
    "        mito = os.path.join('./Merged file', i)\n",
    "        MITO.append(mito)\n",
    "    elif 'Nucleus' in i:\n",
    "        nucleus = os.path.join('./Merged file', i)\n",
    "        Nucleus.append(nucleus)\n",
    "    elif 'Total' in i:\n",
    "        total = os.path.join('./Merged file', i)\n",
    "        Total.append(total)\n",
    "    else:\n",
    "        pass"
   ]
  },
  {
   "cell_type": "code",
   "execution_count": 7,
   "metadata": {},
   "outputs": [],
   "source": [
    "MITO_df = [pd.read_csv(MITO[i], delimiter='\\t') for i in range(len(MITO))]\n",
    "Nucleus_df = [pd.read_csv(Nucleus[i], delimiter='\\t') for i in range(len(MITO))]\n",
    "Total_df = [pd.read_csv(Total[i], delimiter='\\t') for i in range(len(MITO))]"
   ]
  },
  {
   "cell_type": "code",
   "execution_count": 10,
   "metadata": {},
   "outputs": [],
   "source": [
    "def MITO_process(df):\n",
    "    Pf3D7A = df.iloc[:,[1,2,5,13,7]]\n",
    "    Pf3D7B = Pf3D7A.groupby(['Row','Column','Field','MITO - ROI No'],as_index=False)\n",
    "    Pf3D7C=Pf3D7B.count()\n",
    "    Pf3D7C.rename(columns = {'Object Number':'MITO_count'},inplace=True)\n",
    "    Pf3D7C.rename(columns = {'MITO - ROI No':'Object No in RBC'},inplace=True)\n",
    "    return Pf3D7C\n",
    "\n",
    "def Nucleus_process(df):\n",
    "    Pf3D7A = df.iloc[:,[1,2,5,13,7]]\n",
    "    Pf3D7B = Pf3D7A.groupby(['Row','Column','Field','Nucleus - ROI No'],as_index=False)\n",
    "    Pf3D7C=Pf3D7B.count()\n",
    "    Pf3D7C.rename(columns = {'Object Number':'Nucleus_count'},inplace=True)\n",
    "    Pf3D7C.rename(columns = {'Nucleus - ROI No':'Object No in RBC'},inplace=True)\n",
    "    return Pf3D7C"
   ]
  },
  {
   "cell_type": "code",
   "execution_count": 11,
   "metadata": {},
   "outputs": [],
   "source": [
    "MITO_processed_df = list(map(MITO_process, MITO_df))\n",
    "Nucleus_processed_df = list(map(Nucleus_process, Nucleus_df))\n",
    "Merged_df = [pd.merge(i,j,how='right').dropna(axis=0) for i, j in zip(MITO_processed_df, Nucleus_processed_df)] # Object No, MITO, Nucleus count\n",
    "Total_df = [Total_df[i].rename(columns = {'RBC_selected - Object No in RBC S':'Object No in RBC'}) for i in range(len(Total_df))] # Total information"
   ]
  },
  {
   "cell_type": "code",
   "execution_count": 14,
   "metadata": {},
   "outputs": [
    {
     "data": {
      "text/html": [
       "<div>\n",
       "<style scoped>\n",
       "    .dataframe tbody tr th:only-of-type {\n",
       "        vertical-align: middle;\n",
       "    }\n",
       "\n",
       "    .dataframe tbody tr th {\n",
       "        vertical-align: top;\n",
       "    }\n",
       "\n",
       "    .dataframe thead th {\n",
       "        text-align: right;\n",
       "    }\n",
       "</style>\n",
       "<table border=\"1\" class=\"dataframe\">\n",
       "  <thead>\n",
       "    <tr style=\"text-align: right;\">\n",
       "      <th></th>\n",
       "      <th>Row</th>\n",
       "      <th>Column</th>\n",
       "      <th>Field</th>\n",
       "      <th>Object No in RBC</th>\n",
       "      <th>MITO_count</th>\n",
       "      <th>Nucleus_count</th>\n",
       "    </tr>\n",
       "  </thead>\n",
       "  <tbody>\n",
       "    <tr>\n",
       "      <th>0</th>\n",
       "      <td>3</td>\n",
       "      <td>3</td>\n",
       "      <td>1</td>\n",
       "      <td>13</td>\n",
       "      <td>1.0</td>\n",
       "      <td>1</td>\n",
       "    </tr>\n",
       "    <tr>\n",
       "      <th>1</th>\n",
       "      <td>3</td>\n",
       "      <td>3</td>\n",
       "      <td>2</td>\n",
       "      <td>5</td>\n",
       "      <td>1.0</td>\n",
       "      <td>1</td>\n",
       "    </tr>\n",
       "    <tr>\n",
       "      <th>2</th>\n",
       "      <td>3</td>\n",
       "      <td>3</td>\n",
       "      <td>3</td>\n",
       "      <td>10</td>\n",
       "      <td>2.0</td>\n",
       "      <td>2</td>\n",
       "    </tr>\n",
       "    <tr>\n",
       "      <th>3</th>\n",
       "      <td>3</td>\n",
       "      <td>3</td>\n",
       "      <td>3</td>\n",
       "      <td>11</td>\n",
       "      <td>2.0</td>\n",
       "      <td>2</td>\n",
       "    </tr>\n",
       "    <tr>\n",
       "      <th>4</th>\n",
       "      <td>3</td>\n",
       "      <td>3</td>\n",
       "      <td>3</td>\n",
       "      <td>16</td>\n",
       "      <td>2.0</td>\n",
       "      <td>2</td>\n",
       "    </tr>\n",
       "    <tr>\n",
       "      <th>...</th>\n",
       "      <td>...</td>\n",
       "      <td>...</td>\n",
       "      <td>...</td>\n",
       "      <td>...</td>\n",
       "      <td>...</td>\n",
       "      <td>...</td>\n",
       "    </tr>\n",
       "    <tr>\n",
       "      <th>72609</th>\n",
       "      <td>14</td>\n",
       "      <td>11</td>\n",
       "      <td>121</td>\n",
       "      <td>12</td>\n",
       "      <td>3.0</td>\n",
       "      <td>3</td>\n",
       "    </tr>\n",
       "    <tr>\n",
       "      <th>72610</th>\n",
       "      <td>14</td>\n",
       "      <td>11</td>\n",
       "      <td>121</td>\n",
       "      <td>14</td>\n",
       "      <td>1.0</td>\n",
       "      <td>1</td>\n",
       "    </tr>\n",
       "    <tr>\n",
       "      <th>72611</th>\n",
       "      <td>14</td>\n",
       "      <td>11</td>\n",
       "      <td>121</td>\n",
       "      <td>16</td>\n",
       "      <td>1.0</td>\n",
       "      <td>1</td>\n",
       "    </tr>\n",
       "    <tr>\n",
       "      <th>72612</th>\n",
       "      <td>14</td>\n",
       "      <td>11</td>\n",
       "      <td>121</td>\n",
       "      <td>17</td>\n",
       "      <td>1.0</td>\n",
       "      <td>1</td>\n",
       "    </tr>\n",
       "    <tr>\n",
       "      <th>72613</th>\n",
       "      <td>14</td>\n",
       "      <td>11</td>\n",
       "      <td>121</td>\n",
       "      <td>19</td>\n",
       "      <td>1.0</td>\n",
       "      <td>1</td>\n",
       "    </tr>\n",
       "  </tbody>\n",
       "</table>\n",
       "<p>69825 rows × 6 columns</p>\n",
       "</div>"
      ],
      "text/plain": [
       "       Row  Column  Field  Object No in RBC  MITO_count  Nucleus_count\n",
       "0        3       3      1                13         1.0              1\n",
       "1        3       3      2                 5         1.0              1\n",
       "2        3       3      3                10         2.0              2\n",
       "3        3       3      3                11         2.0              2\n",
       "4        3       3      3                16         2.0              2\n",
       "...    ...     ...    ...               ...         ...            ...\n",
       "72609   14      11    121                12         3.0              3\n",
       "72610   14      11    121                14         1.0              1\n",
       "72611   14      11    121                16         1.0              1\n",
       "72612   14      11    121                17         1.0              1\n",
       "72613   14      11    121                19         1.0              1\n",
       "\n",
       "[69825 rows x 6 columns]"
      ]
     },
     "execution_count": 14,
     "metadata": {},
     "output_type": "execute_result"
    }
   ],
   "source": [
    "Merged_df[0]"
   ]
  },
  {
   "cell_type": "code",
   "execution_count": 16,
   "metadata": {},
   "outputs": [],
   "source": [
    "Final_merged = [pd.merge(Merged_df[i], Total_df[i], how='right').dropna(axis=0) for i in range(len(Merged_df))]\n",
    "Final_merged  = [Final_merged[i].drop(['Object No in RBC','WellName','Timepoint', 'Plane', 'RefId',\n",
    "                                       'Object Number', 'X', 'Y', 'Bounding Box', 'ax', 'ay','RBC_selected - Object No in RBC'],axis=1) for i in range(len(Final_merged))]"
   ]
  },
  {
   "cell_type": "code",
   "execution_count": 20,
   "metadata": {},
   "outputs": [
    {
     "data": {
      "text/plain": [
       "['03110830',\n",
       " '03111500',\n",
       " '03112000',\n",
       " '03120100',\n",
       " '03120800',\n",
       " '03121200',\n",
       " '03121600',\n",
       " '03122000',\n",
       " '03122400',\n",
       " 'CSV file',\n",
       " 'Merged file']"
      ]
     },
     "execution_count": 20,
     "metadata": {},
     "output_type": "execute_result"
    }
   ],
   "source": [
    "os.listdir() #getcwd() 경로에 있는 폴더명"
   ]
  },
  {
   "cell_type": "code",
   "execution_count": 17,
   "metadata": {},
   "outputs": [],
   "source": [
    "Date = os.listdir('.')\n",
    "Alphabet = ['A','B','C','D','E','F','G','H','I']"
   ]
  },
  {
   "cell_type": "code",
   "execution_count": null,
   "metadata": {},
   "outputs": [
    {
     "data": {
      "text/plain": [
       "[None, None, None, None, None, None, None, None, None]"
      ]
     },
     "metadata": {},
     "output_type": "display_data"
    }
   ],
   "source": [
    "[Final_merged[i].to_csv('Final_' + Date[i] + Alphabet[i] + '.csv' ,header=True, index=False) for i in range(len(Total_df))]"
   ]
  }
 ],
 "metadata": {
  "kernelspec": {
   "display_name": "python3.9",
   "language": "python",
   "name": "python3"
  },
  "language_info": {
   "codemirror_mode": {
    "name": "ipython",
    "version": 3
   },
   "file_extension": ".py",
   "mimetype": "text/x-python",
   "name": "python",
   "nbconvert_exporter": "python",
   "pygments_lexer": "ipython3",
   "version": "3.9.13 (tags/v3.9.13:6de2ca5, May 17 2022, 16:36:42) [MSC v.1929 64 bit (AMD64)]"
  },
  "orig_nbformat": 4,
  "vscode": {
   "interpreter": {
    "hash": "182057276a636ee196177aaba14bc6a26fadddd667b68dfd13f03c8989cecafb"
   }
  }
 },
 "nbformat": 4,
 "nbformat_minor": 2
}
