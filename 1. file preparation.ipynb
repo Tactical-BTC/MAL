{
 "cells": [
  {
   "attachments": {},
   "cell_type": "markdown",
   "metadata": {},
   "source": [
    "## Merge to textfile"
   ]
  },
  {
   "cell_type": "code",
   "execution_count": 1,
   "metadata": {},
   "outputs": [],
   "source": [
    "import pandas as pd\n",
    "import numpy as np\n",
    "from glob import glob\n",
    "import os"
   ]
  },
  {
   "cell_type": "code",
   "execution_count": 14,
   "metadata": {},
   "outputs": [],
   "source": [
    "# 경로설정\n",
    "os.chdir(r'C:\\Users\\jihoon.park\\Desktop\\Paper preparation\\SimA_20230214') "
   ]
  },
  {
   "cell_type": "code",
   "execution_count": 3,
   "metadata": {},
   "outputs": [],
   "source": [
    "Date = os.listdir('.')\n",
    "contents = ['MITO','Nucleus','Total']"
   ]
  },
  {
   "cell_type": "code",
   "execution_count": 4,
   "metadata": {},
   "outputs": [
    {
     "data": {
      "text/plain": [
       "'C:\\\\Users\\\\jihoon.park\\\\Desktop\\\\Paper preparation\\\\SimA_20230214'"
      ]
     },
     "execution_count": 4,
     "metadata": {},
     "output_type": "execute_result"
    }
   ],
   "source": [
    "os.getcwd()"
   ]
  },
  {
   "cell_type": "code",
   "execution_count": 5,
   "metadata": {},
   "outputs": [],
   "source": [
    "path = []\n",
    "for i in Date:\n",
    "    for j in contents:\n",
    "        A = os.path.join(os.getcwd(), i, j,'*.txt')\n",
    "        path.append(A)"
   ]
  },
  {
   "cell_type": "code",
   "execution_count": 8,
   "metadata": {},
   "outputs": [],
   "source": [
    "Name = []\n",
    "for i in Date:\n",
    "    for j in contents:\n",
    "        name = i + '_' + j + '.txt'\n",
    "        Name.append(name)"
   ]
  },
  {
   "cell_type": "code",
   "execution_count": 9,
   "metadata": {},
   "outputs": [],
   "source": [
    "filenames = [glob(path[i]) for i in range(len(path))]"
   ]
  },
  {
   "cell_type": "code",
   "execution_count": 11,
   "metadata": {},
   "outputs": [],
   "source": [
    "for i in range(len(path)):\n",
    "    with open(Name[i], 'w') as outfile:\n",
    "        for i, filename in enumerate(filenames[i]):\n",
    "            with open(filename) as file:\n",
    "                for j, line in enumerate(file):\n",
    "                    # Skip the first row of each file after the first file\n",
    "                    if i > 0 and j == 0:\n",
    "                        continue\n",
    "                    outfile.write(line)"
   ]
  }
 ],
 "metadata": {
  "kernelspec": {
   "display_name": "Python 3",
   "language": "python",
   "name": "python3"
  },
  "language_info": {
   "codemirror_mode": {
    "name": "ipython",
    "version": 3
   },
   "file_extension": ".py",
   "mimetype": "text/x-python",
   "name": "python",
   "nbconvert_exporter": "python",
   "pygments_lexer": "ipython3",
   "version": "3.11.1 (tags/v3.11.1:a7a450f, Dec  6 2022, 19:58:39) [MSC v.1934 64 bit (AMD64)]"
  },
  "orig_nbformat": 4,
  "vscode": {
   "interpreter": {
    "hash": "7cd80e7495e189e13e56a626b30db660def11c5f7afcc05e360ebd29a529576c"
   }
  }
 },
 "nbformat": 4,
 "nbformat_minor": 2
}
